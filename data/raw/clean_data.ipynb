{
 "cells": [
  {
   "cell_type": "code",
   "execution_count": 1,
   "metadata": {},
   "outputs": [],
   "source": [
    "import numpy as np\n",
    "import pandas as pd"
   ]
  },
  {
   "cell_type": "code",
   "execution_count": 2,
   "metadata": {},
   "outputs": [],
   "source": [
    "df = pd.read_csv('cafe_sales.csv')"
   ]
  },
  {
   "cell_type": "code",
   "execution_count": 3,
   "metadata": {},
   "outputs": [
    {
     "name": "stdout",
     "output_type": "stream",
     "text": [
      "<class 'pandas.core.frame.DataFrame'>\n",
      "RangeIndex: 10000 entries, 0 to 9999\n",
      "Data columns (total 8 columns):\n",
      " #   Column            Non-Null Count  Dtype \n",
      "---  ------            --------------  ----- \n",
      " 0   Transaction ID    10000 non-null  object\n",
      " 1   Item              9667 non-null   object\n",
      " 2   Quantity          9862 non-null   object\n",
      " 3   Price Per Unit    9821 non-null   object\n",
      " 4   Total Spent       9827 non-null   object\n",
      " 5   Payment Method    7421 non-null   object\n",
      " 6   Location          6735 non-null   object\n",
      " 7   Transaction Date  9841 non-null   object\n",
      "dtypes: object(8)\n",
      "memory usage: 625.1+ KB\n"
     ]
    }
   ],
   "source": [
    "df.info()"
   ]
  },
  {
   "cell_type": "markdown",
   "metadata": {},
   "source": [
    "Looking at the above info(), it can be seen that the Dtype for the columns are incorrect, they should int and location needs to be a string "
   ]
  },
  {
   "cell_type": "code",
   "execution_count": 4,
   "metadata": {},
   "outputs": [
    {
     "data": {
      "text/plain": [
       "Transaction ID      object\n",
       "Item                object\n",
       "Quantity            object\n",
       "Price Per Unit      object\n",
       "Total Spent         object\n",
       "Payment Method      object\n",
       "Location            object\n",
       "Transaction Date    object\n",
       "dtype: object"
      ]
     },
     "execution_count": 4,
     "metadata": {},
     "output_type": "execute_result"
    }
   ],
   "source": [
    "df.dtypes"
   ]
  },
  {
   "cell_type": "markdown",
   "metadata": {},
   "source": [
    "## Why We Replaced Rows with \"ERROR\", \"UNKNOWN\", with Blank Values\n",
    "As part of the Data Cleaning & Processing phase, we made the decision to treat \"ERROR\", \"UNKNOWN\", and blank (NaN) values as invalid entries across several key columns, including Location, Payment Method, and Item.\n",
    "\n",
    "### These values were dropped or flagged for the following reasons:\n",
    "- They do not represent meaningful or analyzable categories — including them in analysis (like counts, trends, or visualizations) would distort results.\n",
    "- They introduce ambiguity — it’s unclear whether \"UNKNOWN\" means the customer didn’t provide info, the data was lost, or it was never collected at all.\n",
    "- They prevent accurate grouping or aggregation — especially in columns where we're measuring trends by category (e.g. sales by location or payment method).\n",
    "- They signal data quality issues — and retaining them without clarity could lead to misleading insights.\n",
    "- They cannot be imputed reliably — for categorical fields like Location or Payment Method, we lack sufficient context to fill in reasonable values without introducing bias.\n",
    "\n",
    "I chose to flag these rows before replacing, to maintain transparency and allow for optional analysis of how many records were impacted by invalid or missing data.\n",
    "- In total, this resulted in a notable reduction in the dataset size — but improved overall data quality and trustworthiness of the insights drawn from it.\n",
    "\n"
   ]
  },
  {
   "cell_type": "code",
   "execution_count": 5,
   "metadata": {},
   "outputs": [],
   "source": [
    "df['Quantity'] = df['Quantity'].replace('UNKNOWN', np.nan)\n",
    "df['Quantity'] = df['Quantity'].replace('ERROR', np.nan)\n",
    "df['Quantity'] = pd.to_numeric(df['Quantity'])\n"
   ]
  },
  {
   "cell_type": "code",
   "execution_count": 6,
   "metadata": {},
   "outputs": [],
   "source": [
    "df['Price Per Unit'] = df['Price Per Unit'].replace('UNKNOWN', np.nan)\n",
    "df['Price Per Unit'] = df['Price Per Unit'].replace('ERROR', np.nan)\n",
    "df['Price Per Unit'] = pd.to_numeric(df['Price Per Unit'])"
   ]
  },
  {
   "cell_type": "code",
   "execution_count": 7,
   "metadata": {},
   "outputs": [],
   "source": [
    "df['Total Spent'] = df['Total Spent'].replace('UNKNOWN', np.nan)\n",
    "df['Total Spent'] = df['Total Spent'].replace('ERROR', np.nan)\n",
    "df['Total Spent'] = pd.to_numeric(df['Total Spent'])"
   ]
  },
  {
   "cell_type": "markdown",
   "metadata": {},
   "source": [
    "Above are ints, below are str/objects\n"
   ]
  },
  {
   "cell_type": "code",
   "execution_count": 8,
   "metadata": {},
   "outputs": [],
   "source": [
    "# df['col1'] = df['col1'].astype(str)\n",
    "df['Transaction ID'] = df['Transaction ID'].replace('UNKNOWN', np.nan)\n",
    "df['Transaction ID'] = df['Transaction ID'].replace('ERROR', np.nan)\n",
    "df['Transaction ID'] = df['Transaction ID'].astype(str)"
   ]
  },
  {
   "cell_type": "code",
   "execution_count": 9,
   "metadata": {},
   "outputs": [],
   "source": [
    "df['Item'] = df['Item'].replace('UNKNOWN', np.nan)\n",
    "df['Item'] = df['Item'].replace('ERROR', np.nan)\n",
    "df['Item'] = df['Item'].astype(str)"
   ]
  },
  {
   "cell_type": "code",
   "execution_count": 10,
   "metadata": {},
   "outputs": [],
   "source": [
    "df['Payment Method'] = df['Payment Method'].replace('UNKNOWN', np.nan)\n",
    "df['Payment Method'] = df['Payment Method'].replace('ERROR', np.nan)\n",
    "df['Payment Method'] = df['Payment Method'].astype(str)"
   ]
  },
  {
   "cell_type": "markdown",
   "metadata": {},
   "source": [
    "### 🚩 What Does “Flagging” Mean?\n",
    "Flagging means creating a new column that marks or identifies certain rows in your dataset based on a condition — like rows where the value is \"UNKNOWN\" or \"ERROR\".\n",
    "- You’re not deleting or changing anything — you’re just labeling them.\n",
    "\n",
    "### 📌 Why Flag?\n",
    "* Count how many errors you had\n",
    "* See patterns (e.g. do most \"UNKNOWN\" locations happen with cash payments?)\n",
    "* Filter or exclude those rows later, without losing track of them\n",
    "\n"
   ]
  },
  {
   "cell_type": "code",
   "execution_count": 11,
   "metadata": {},
   "outputs": [],
   "source": [
    "# Step 1: Flag the rows\n",
    "df['Location_was_unavailable'] = df['Location'].isin(['UNKNOWN', 'ERROR']) | df['Location'].isna()\n",
    "\n",
    "# Step 2: Replace them with missing values\n",
    "df['Location'] = df['Location'].replace(['UNKNOWN', 'ERROR'], np.nan)\n",
    "\n",
    "df['Location'] = df['Location'].astype(str)  # Optional: keeps it string"
   ]
  },
  {
   "cell_type": "code",
   "execution_count": 12,
   "metadata": {},
   "outputs": [
    {
     "name": "stdout",
     "output_type": "stream",
     "text": [
      "Location_was_unavailable\n",
      "False    6039\n",
      "True     3961\n",
      "Name: count, dtype: int64\n"
     ]
    }
   ],
   "source": [
    "print(df['Location_was_unavailable'].value_counts())\n"
   ]
  },
  {
   "cell_type": "code",
   "execution_count": 13,
   "metadata": {},
   "outputs": [
    {
     "data": {
      "text/plain": [
       "Transaction ID               object\n",
       "Item                         object\n",
       "Quantity                    float64\n",
       "Price Per Unit              float64\n",
       "Total Spent                 float64\n",
       "Payment Method               object\n",
       "Location                     object\n",
       "Transaction Date             object\n",
       "Location_was_unavailable       bool\n",
       "dtype: object"
      ]
     },
     "execution_count": 13,
     "metadata": {},
     "output_type": "execute_result"
    }
   ],
   "source": [
    "df.dtypes"
   ]
  },
  {
   "cell_type": "code",
   "execution_count": 14,
   "metadata": {},
   "outputs": [
    {
     "name": "stdout",
     "output_type": "stream",
     "text": [
      "Location column missing values:\n",
      "Location\n",
      "nan         3961\n",
      "Takeaway    3022\n",
      "In-store    3017\n",
      "Name: count, dtype: int64\n"
     ]
    }
   ],
   "source": [
    "print(\"Location column missing values:\")\n",
    "print(df['Location'].value_counts(dropna=False))  # shows NaNs too\n"
   ]
  },
  {
   "cell_type": "code",
   "execution_count": 15,
   "metadata": {},
   "outputs": [],
   "source": [
    "df['Transaction Date'] = pd.to_datetime(df['Transaction Date'], errors='coerce')\n",
    "\n",
    "# Add new time columns\n",
    "# df['Day of Week'] = df['Transaction Date'].dt.day_name()\n",
    "# df['Month'] = df['Transaction Date'].dt.month_name()\n"
   ]
  },
  {
   "cell_type": "code",
   "execution_count": 16,
   "metadata": {},
   "outputs": [],
   "source": [
    "df.to_csv(\"cleaned_cafe_data.csv\", index=False)\n"
   ]
  }
 ],
 "metadata": {
  "kernelspec": {
   "display_name": "Python 3",
   "language": "python",
   "name": "python3"
  },
  "language_info": {
   "codemirror_mode": {
    "name": "ipython",
    "version": 3
   },
   "file_extension": ".py",
   "mimetype": "text/x-python",
   "name": "python",
   "nbconvert_exporter": "python",
   "pygments_lexer": "ipython3",
   "version": "3.12.7"
  },
  "orig_nbformat": 4
 },
 "nbformat": 4,
 "nbformat_minor": 2
}
